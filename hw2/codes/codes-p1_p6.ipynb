{
 "cells": [
  {
   "cell_type": "markdown",
   "metadata": {},
   "source": [
    "# Problem 7"
   ]
  },
  {
   "cell_type": "markdown",
   "metadata": {},
   "source": [
    "### About GLM and Linear Regression:\n",
    "#### One characteristic of linear regression is that we can condider it in a a probablilistic way: $Y_i = b_0 + b_1x_i$ where i is index of each sample point and  given x_i, Y is a random variable with gaussian distribution (because of a noise with gaussian distribution). Now suppose that we have a sample that relationship between x and Y is not linear and maybe Y is not a continous random variable but a discrete one.\n",
    "#### In general we model Y as a random variable having a distribution and when we apply a function(called link function) on the  parameters of that distribution, the result is linearly dependent to x and we write:\n",
    "$$\n",
    "L(\\lambda_i) = b_0 + b_1x_i \\\\ \n",
    "y_i \\sim Distribution(\\lambda_i)\n",
    "$$\n",
    "#### Linear Regression is just a GLM where L(link function) is identity functin  and the Distribution is Gaussian. When L is natural logarithm and Distribution is Poisson we call the GLM a poisson regression."
   ]
  },
  {
   "cell_type": "code",
   "execution_count": 1,
   "metadata": {},
   "outputs": [],
   "source": [
    "import statsmodels.api as sm\n",
    "import pandas as pd\n",
    "import numpy as np\n",
    "import matplotlib.pyplot as plt"
   ]
  },
  {
   "cell_type": "markdown",
   "metadata": {},
   "source": [
    "#### Visualizing the data:"
   ]
  },
  {
   "cell_type": "code",
   "execution_count": 2,
   "metadata": {},
   "outputs": [
    {
     "data": {
      "text/html": [
       "<div>\n",
       "<style scoped>\n",
       "    .dataframe tbody tr th:only-of-type {\n",
       "        vertical-align: middle;\n",
       "    }\n",
       "\n",
       "    .dataframe tbody tr th {\n",
       "        vertical-align: top;\n",
       "    }\n",
       "\n",
       "    .dataframe thead th {\n",
       "        text-align: right;\n",
       "    }\n",
       "</style>\n",
       "<table border=\"1\" class=\"dataframe\">\n",
       "  <thead>\n",
       "    <tr style=\"text-align: right;\">\n",
       "      <th></th>\n",
       "      <th>Date</th>\n",
       "      <th>HIGH_T</th>\n",
       "      <th>LOW_T</th>\n",
       "      <th>PRECIP</th>\n",
       "      <th>BB_COUNT</th>\n",
       "    </tr>\n",
       "  </thead>\n",
       "  <tbody>\n",
       "    <tr>\n",
       "      <th>0</th>\n",
       "      <td>1-Apr-17</td>\n",
       "      <td>46.0</td>\n",
       "      <td>37.0</td>\n",
       "      <td>0.00</td>\n",
       "      <td>606</td>\n",
       "    </tr>\n",
       "    <tr>\n",
       "      <th>1</th>\n",
       "      <td>2-Apr-17</td>\n",
       "      <td>62.1</td>\n",
       "      <td>41.0</td>\n",
       "      <td>0.00</td>\n",
       "      <td>2021</td>\n",
       "    </tr>\n",
       "    <tr>\n",
       "      <th>2</th>\n",
       "      <td>3-Apr-17</td>\n",
       "      <td>63.0</td>\n",
       "      <td>50.0</td>\n",
       "      <td>0.03</td>\n",
       "      <td>2470</td>\n",
       "    </tr>\n",
       "    <tr>\n",
       "      <th>3</th>\n",
       "      <td>4-Apr-17</td>\n",
       "      <td>51.1</td>\n",
       "      <td>46.0</td>\n",
       "      <td>1.18</td>\n",
       "      <td>723</td>\n",
       "    </tr>\n",
       "    <tr>\n",
       "      <th>4</th>\n",
       "      <td>5-Apr-17</td>\n",
       "      <td>63.0</td>\n",
       "      <td>46.0</td>\n",
       "      <td>0.00</td>\n",
       "      <td>2807</td>\n",
       "    </tr>\n",
       "    <tr>\n",
       "      <th>...</th>\n",
       "      <td>...</td>\n",
       "      <td>...</td>\n",
       "      <td>...</td>\n",
       "      <td>...</td>\n",
       "      <td>...</td>\n",
       "    </tr>\n",
       "    <tr>\n",
       "      <th>209</th>\n",
       "      <td>27-Oct-17</td>\n",
       "      <td>62.1</td>\n",
       "      <td>48.0</td>\n",
       "      <td>0.00</td>\n",
       "      <td>3150</td>\n",
       "    </tr>\n",
       "    <tr>\n",
       "      <th>210</th>\n",
       "      <td>28-Oct-17</td>\n",
       "      <td>68.0</td>\n",
       "      <td>55.9</td>\n",
       "      <td>0.00</td>\n",
       "      <td>2245</td>\n",
       "    </tr>\n",
       "    <tr>\n",
       "      <th>211</th>\n",
       "      <td>29-Oct-17</td>\n",
       "      <td>64.9</td>\n",
       "      <td>61.0</td>\n",
       "      <td>3.03</td>\n",
       "      <td>183</td>\n",
       "    </tr>\n",
       "    <tr>\n",
       "      <th>212</th>\n",
       "      <td>30-Oct-17</td>\n",
       "      <td>55.0</td>\n",
       "      <td>46.0</td>\n",
       "      <td>0.25</td>\n",
       "      <td>1428</td>\n",
       "    </tr>\n",
       "    <tr>\n",
       "      <th>213</th>\n",
       "      <td>31-Oct-17</td>\n",
       "      <td>54.0</td>\n",
       "      <td>44.0</td>\n",
       "      <td>0.00</td>\n",
       "      <td>2727</td>\n",
       "    </tr>\n",
       "  </tbody>\n",
       "</table>\n",
       "<p>214 rows × 5 columns</p>\n",
       "</div>"
      ],
      "text/plain": [
       "          Date  HIGH_T  LOW_T  PRECIP  BB_COUNT\n",
       "0     1-Apr-17    46.0   37.0    0.00       606\n",
       "1     2-Apr-17    62.1   41.0    0.00      2021\n",
       "2     3-Apr-17    63.0   50.0    0.03      2470\n",
       "3     4-Apr-17    51.1   46.0    1.18       723\n",
       "4     5-Apr-17    63.0   46.0    0.00      2807\n",
       "..         ...     ...    ...     ...       ...\n",
       "209  27-Oct-17    62.1   48.0    0.00      3150\n",
       "210  28-Oct-17    68.0   55.9    0.00      2245\n",
       "211  29-Oct-17    64.9   61.0    3.03       183\n",
       "212  30-Oct-17    55.0   46.0    0.25      1428\n",
       "213  31-Oct-17    54.0   44.0    0.00      2727\n",
       "\n",
       "[214 rows x 5 columns]"
      ]
     },
     "execution_count": 2,
     "metadata": {},
     "output_type": "execute_result"
    }
   ],
   "source": [
    "data = pd.read_csv(\"nyc_cyclist_counts.csv\")\n",
    "data"
   ]
  },
  {
   "cell_type": "markdown",
   "metadata": {},
   "source": [
    "#### We know that BB_COUNT has Piosson Distribution and samples are independent."
   ]
  },
  {
   "cell_type": "markdown",
   "metadata": {},
   "source": [
    "#### Separating the features and target"
   ]
  },
  {
   "cell_type": "code",
   "execution_count": 3,
   "metadata": {},
   "outputs": [],
   "source": [
    "X = data.iloc[:, [1,2,3]].to_numpy()\n",
    "y = data.iloc[:, [4]].to_numpy()"
   ]
  },
  {
   "cell_type": "markdown",
   "metadata": {},
   "source": [
    "#### We use statsmodels library to build the poisson GLM. In this library the features and target are usually called exog and endog. We import the library as sm. with sm.add_constant(X) we add bias column to input features X. then we put the result in exog. We put y in endog. then with sn.GLM(...) we buld the model and give exog and endog to it. Also we specify the family(distribution of target) as the poisson distribution. The default link will be the log function."
   ]
  },
  {
   "cell_type": "code",
   "execution_count": 4,
   "metadata": {},
   "outputs": [],
   "source": [
    "exog, endog = sm.add_constant(X), y\n",
    "model = sm.GLM(endog, exog, family=sm.families.Poisson(link=sm.families.links.log()))"
   ]
  },
  {
   "cell_type": "markdown",
   "metadata": {},
   "source": [
    "#### Now that we have built the modle we use model.fit() to fit the model to data. It will return the fitted_model object."
   ]
  },
  {
   "cell_type": "code",
   "execution_count": 5,
   "metadata": {},
   "outputs": [],
   "source": [
    "fitted_model = model.fit()"
   ]
  },
  {
   "cell_type": "markdown",
   "metadata": {},
   "source": [
    "#### We call fitted_model.predict(exog) to predict the target for data. "
   ]
  },
  {
   "cell_type": "code",
   "execution_count": 6,
   "metadata": {},
   "outputs": [
    {
     "data": {
      "text/html": [
       "<div>\n",
       "<style scoped>\n",
       "    .dataframe tbody tr th:only-of-type {\n",
       "        vertical-align: middle;\n",
       "    }\n",
       "\n",
       "    .dataframe tbody tr th {\n",
       "        vertical-align: top;\n",
       "    }\n",
       "\n",
       "    .dataframe thead th {\n",
       "        text-align: right;\n",
       "    }\n",
       "</style>\n",
       "<table border=\"1\" class=\"dataframe\">\n",
       "  <thead>\n",
       "    <tr style=\"text-align: right;\">\n",
       "      <th></th>\n",
       "      <th>Date</th>\n",
       "      <th>HIGH_T</th>\n",
       "      <th>LOW_T</th>\n",
       "      <th>PRECIP</th>\n",
       "      <th>BB_COUNT</th>\n",
       "      <th>preds</th>\n",
       "    </tr>\n",
       "  </thead>\n",
       "  <tbody>\n",
       "    <tr>\n",
       "      <th>0</th>\n",
       "      <td>1-Apr-17</td>\n",
       "      <td>46.0</td>\n",
       "      <td>37.0</td>\n",
       "      <td>0.00</td>\n",
       "      <td>606</td>\n",
       "      <td>2037.066983</td>\n",
       "    </tr>\n",
       "    <tr>\n",
       "      <th>1</th>\n",
       "      <td>2-Apr-17</td>\n",
       "      <td>62.1</td>\n",
       "      <td>41.0</td>\n",
       "      <td>0.00</td>\n",
       "      <td>2021</td>\n",
       "      <td>2810.128920</td>\n",
       "    </tr>\n",
       "    <tr>\n",
       "      <th>2</th>\n",
       "      <td>3-Apr-17</td>\n",
       "      <td>63.0</td>\n",
       "      <td>50.0</td>\n",
       "      <td>0.03</td>\n",
       "      <td>2470</td>\n",
       "      <td>2493.640949</td>\n",
       "    </tr>\n",
       "    <tr>\n",
       "      <th>3</th>\n",
       "      <td>4-Apr-17</td>\n",
       "      <td>51.1</td>\n",
       "      <td>46.0</td>\n",
       "      <td>1.18</td>\n",
       "      <td>723</td>\n",
       "      <td>808.721689</td>\n",
       "    </tr>\n",
       "    <tr>\n",
       "      <th>4</th>\n",
       "      <td>5-Apr-17</td>\n",
       "      <td>63.0</td>\n",
       "      <td>46.0</td>\n",
       "      <td>0.00</td>\n",
       "      <td>2807</td>\n",
       "      <td>2689.087230</td>\n",
       "    </tr>\n",
       "    <tr>\n",
       "      <th>...</th>\n",
       "      <td>...</td>\n",
       "      <td>...</td>\n",
       "      <td>...</td>\n",
       "      <td>...</td>\n",
       "      <td>...</td>\n",
       "      <td>...</td>\n",
       "    </tr>\n",
       "    <tr>\n",
       "      <th>209</th>\n",
       "      <td>27-Oct-17</td>\n",
       "      <td>62.1</td>\n",
       "      <td>48.0</td>\n",
       "      <td>0.00</td>\n",
       "      <td>3150</td>\n",
       "      <td>2565.999474</td>\n",
       "    </tr>\n",
       "    <tr>\n",
       "      <th>210</th>\n",
       "      <td>28-Oct-17</td>\n",
       "      <td>68.0</td>\n",
       "      <td>55.9</td>\n",
       "      <td>0.00</td>\n",
       "      <td>2245</td>\n",
       "      <td>2655.702720</td>\n",
       "    </tr>\n",
       "    <tr>\n",
       "      <th>211</th>\n",
       "      <td>29-Oct-17</td>\n",
       "      <td>64.9</td>\n",
       "      <td>61.0</td>\n",
       "      <td>3.03</td>\n",
       "      <td>183</td>\n",
       "      <td>214.918621</td>\n",
       "    </tr>\n",
       "    <tr>\n",
       "      <th>212</th>\n",
       "      <td>30-Oct-17</td>\n",
       "      <td>55.0</td>\n",
       "      <td>46.0</td>\n",
       "      <td>0.25</td>\n",
       "      <td>1428</td>\n",
       "      <td>1835.822906</td>\n",
       "    </tr>\n",
       "    <tr>\n",
       "      <th>213</th>\n",
       "      <td>31-Oct-17</td>\n",
       "      <td>54.0</td>\n",
       "      <td>44.0</td>\n",
       "      <td>0.00</td>\n",
       "      <td>2727</td>\n",
       "      <td>2239.593446</td>\n",
       "    </tr>\n",
       "  </tbody>\n",
       "</table>\n",
       "<p>214 rows × 6 columns</p>\n",
       "</div>"
      ],
      "text/plain": [
       "          Date  HIGH_T  LOW_T  PRECIP  BB_COUNT        preds\n",
       "0     1-Apr-17    46.0   37.0    0.00       606  2037.066983\n",
       "1     2-Apr-17    62.1   41.0    0.00      2021  2810.128920\n",
       "2     3-Apr-17    63.0   50.0    0.03      2470  2493.640949\n",
       "3     4-Apr-17    51.1   46.0    1.18       723   808.721689\n",
       "4     5-Apr-17    63.0   46.0    0.00      2807  2689.087230\n",
       "..         ...     ...    ...     ...       ...          ...\n",
       "209  27-Oct-17    62.1   48.0    0.00      3150  2565.999474\n",
       "210  28-Oct-17    68.0   55.9    0.00      2245  2655.702720\n",
       "211  29-Oct-17    64.9   61.0    3.03       183   214.918621\n",
       "212  30-Oct-17    55.0   46.0    0.25      1428  1835.822906\n",
       "213  31-Oct-17    54.0   44.0    0.00      2727  2239.593446\n",
       "\n",
       "[214 rows x 6 columns]"
      ]
     },
     "execution_count": 6,
     "metadata": {},
     "output_type": "execute_result"
    }
   ],
   "source": [
    "y_pred = fitted_model.predict(exog)\n",
    "\n",
    "## we put the predictoin result in the preds column of the orginal data\n",
    "data['preds'] = y_pred\n",
    "data"
   ]
  },
  {
   "cell_type": "markdown",
   "metadata": {},
   "source": [
    "#### Here we show the summary of the GLM with fitted_model.summary(). As you can see the model family is ***Poisson*** and number of observations is 214 and Link Function as we wanted is ***log*** function."
   ]
  },
  {
   "cell_type": "code",
   "execution_count": 7,
   "metadata": {},
   "outputs": [
    {
     "data": {
      "text/html": [
       "<table class=\"simpletable\">\n",
       "<caption>Generalized Linear Model Regression Results</caption>\n",
       "<tr>\n",
       "  <th>Dep. Variable:</th>           <td>y</td>        <th>  No. Observations:  </th>  <td>   214</td> \n",
       "</tr>\n",
       "<tr>\n",
       "  <th>Model:</th>                  <td>GLM</td>       <th>  Df Residuals:      </th>  <td>   210</td> \n",
       "</tr>\n",
       "<tr>\n",
       "  <th>Model Family:</th>         <td>Poisson</td>     <th>  Df Model:          </th>  <td>     3</td> \n",
       "</tr>\n",
       "<tr>\n",
       "  <th>Link Function:</th>          <td>log</td>       <th>  Scale:             </th> <td>  1.0000</td>\n",
       "</tr>\n",
       "<tr>\n",
       "  <th>Method:</th>                <td>IRLS</td>       <th>  Log-Likelihood:    </th> <td> -16089.</td>\n",
       "</tr>\n",
       "<tr>\n",
       "  <th>Date:</th>            <td>Mon, 16 Nov 2020</td> <th>  Deviance:          </th> <td>  30113.</td>\n",
       "</tr>\n",
       "<tr>\n",
       "  <th>Time:</th>                <td>23:11:52</td>     <th>  Pearson chi2:      </th> <td>2.94e+04</td>\n",
       "</tr>\n",
       "<tr>\n",
       "  <th>No. Iterations:</th>          <td>5</td>        <th>                     </th>     <td> </td>   \n",
       "</tr>\n",
       "<tr>\n",
       "  <th>Covariance Type:</th>     <td>nonrobust</td>    <th>                     </th>     <td> </td>   \n",
       "</tr>\n",
       "</table>\n",
       "<table class=\"simpletable\">\n",
       "<tr>\n",
       "    <td></td>       <th>coef</th>     <th>std err</th>      <th>z</th>      <th>P>|z|</th>  <th>[0.025</th>    <th>0.975]</th>  \n",
       "</tr>\n",
       "<tr>\n",
       "  <th>const</th> <td>    7.0321</td> <td>    0.010</td> <td>  675.941</td> <td> 0.000</td> <td>    7.012</td> <td>    7.052</td>\n",
       "</tr>\n",
       "<tr>\n",
       "  <th>x1</th>    <td>    0.0232</td> <td>    0.000</td> <td>   78.183</td> <td> 0.000</td> <td>    0.023</td> <td>    0.024</td>\n",
       "</tr>\n",
       "<tr>\n",
       "  <th>x2</th>    <td>   -0.0130</td> <td>    0.000</td> <td>  -40.672</td> <td> 0.000</td> <td>   -0.014</td> <td>   -0.012</td>\n",
       "</tr>\n",
       "<tr>\n",
       "  <th>x3</th>    <td>   -0.7842</td> <td>    0.007</td> <td> -115.225</td> <td> 0.000</td> <td>   -0.798</td> <td>   -0.771</td>\n",
       "</tr>\n",
       "</table>"
      ],
      "text/plain": [
       "<class 'statsmodels.iolib.summary.Summary'>\n",
       "\"\"\"\n",
       "                 Generalized Linear Model Regression Results                  \n",
       "==============================================================================\n",
       "Dep. Variable:                      y   No. Observations:                  214\n",
       "Model:                            GLM   Df Residuals:                      210\n",
       "Model Family:                 Poisson   Df Model:                            3\n",
       "Link Function:                    log   Scale:                          1.0000\n",
       "Method:                          IRLS   Log-Likelihood:                -16089.\n",
       "Date:                Mon, 16 Nov 2020   Deviance:                       30113.\n",
       "Time:                        23:11:52   Pearson chi2:                 2.94e+04\n",
       "No. Iterations:                     5                                         \n",
       "Covariance Type:            nonrobust                                         \n",
       "==============================================================================\n",
       "                 coef    std err          z      P>|z|      [0.025      0.975]\n",
       "------------------------------------------------------------------------------\n",
       "const          7.0321      0.010    675.941      0.000       7.012       7.052\n",
       "x1             0.0232      0.000     78.183      0.000       0.023       0.024\n",
       "x2            -0.0130      0.000    -40.672      0.000      -0.014      -0.012\n",
       "x3            -0.7842      0.007   -115.225      0.000      -0.798      -0.771\n",
       "==============================================================================\n",
       "\"\"\""
      ]
     },
     "execution_count": 7,
     "metadata": {},
     "output_type": "execute_result"
    }
   ],
   "source": [
    "fitted_model.summary()"
   ]
  },
  {
   "cell_type": "code",
   "execution_count": 8,
   "metadata": {},
   "outputs": [
    {
     "data": {
      "image/png": "[encoded data removed]",
      "text/plain": [
       "<Figure size 1080x360 with 1 Axes>"
      ]
     },
     "metadata": {
      "needs_background": "light"
     },
     "output_type": "display_data"
    }
   ],
   "source": [
    "data.plot(x = 'Date', y = ['BB_COUNT', 'preds'], figsize=(15,5));"
   ]
  },
  {
   "cell_type": "markdown",
   "metadata": {},
   "source": [
    "#### As we can see from above plot the model has performed well in predicting the BB_COUNT column."
   ]
  },
  {
   "cell_type": "code",
   "execution_count": 9,
   "metadata": {},
   "outputs": [],
   "source": [
    "######################################### PROBLEM SEPARATION #######################################################\n",
    "##############################################################################################################\n",
    "##############################################################################################################"
   ]
  },
  {
   "cell_type": "markdown",
   "metadata": {},
   "source": [
    "# Problem 8"
   ]
  },
  {
   "cell_type": "code",
   "execution_count": 10,
   "metadata": {},
   "outputs": [],
   "source": [
    "import pandas as pd\n",
    "import numpy as np\n",
    "import matplotlib.pyplot as plt\n",
    "import random"
   ]
  },
  {
   "cell_type": "code",
   "execution_count": 11,
   "metadata": {},
   "outputs": [],
   "source": [
    "data = pd.read_csv(\"Iris.csv\")"
   ]
  },
  {
   "cell_type": "markdown",
   "metadata": {},
   "source": [
    "#### With dataframe.sapmle we shuffle the input data and we give a particular random_state(as a seed for random function) to this function to make the results comparable."
   ]
  },
  {
   "cell_type": "code",
   "execution_count": 12,
   "metadata": {},
   "outputs": [],
   "source": [
    "seed=42"
   ]
  },
  {
   "cell_type": "code",
   "execution_count": 13,
   "metadata": {},
   "outputs": [],
   "source": [
    "data = data.sample(frac=1, random_state=seed)"
   ]
  },
  {
   "cell_type": "code",
   "execution_count": 14,
   "metadata": {},
   "outputs": [
    {
     "data": {
      "text/plain": [
       "Index(['Sepal_Length', 'Sepal_Width', 'Petal_Length', 'Petal_Width'], dtype='object')"
      ]
     },
     "execution_count": 14,
     "metadata": {},
     "output_type": "execute_result"
    }
   ],
   "source": [
    "feature_columns = data.columns[:4]\n",
    "feature_columns"
   ]
  },
  {
   "cell_type": "markdown",
   "metadata": {},
   "source": [
    "#### In normalize function we get a dataframe and subtract each columns mean from it and divide it to it's std so that it have mean=0 and std=1."
   ]
  },
  {
   "cell_type": "code",
   "execution_count": 15,
   "metadata": {},
   "outputs": [],
   "source": [
    "def normalize(df):\n",
    "    new_df = df.copy()\n",
    "    for col in feature_columns:\n",
    "        new_df[col] -= df[col].mean()\n",
    "        new_df[col] /= df[col].std()\n",
    "    return new_df"
   ]
  },
  {
   "cell_type": "markdown",
   "metadata": {},
   "source": [
    "#### Here we normalize the data so that will test the classifier for both data and normalized_data:"
   ]
  },
  {
   "cell_type": "code",
   "execution_count": 16,
   "metadata": {},
   "outputs": [],
   "source": [
    "data_normalized = normalize(data)"
   ]
  },
  {
   "cell_type": "markdown",
   "metadata": {},
   "source": [
    "#### We obtain the unique classes in target column with np.unique()"
   ]
  },
  {
   "cell_type": "code",
   "execution_count": 17,
   "metadata": {},
   "outputs": [],
   "source": [
    "categories = np.unique(data[\"Class\"])"
   ]
  },
  {
   "cell_type": "markdown",
   "metadata": {},
   "source": [
    "# 8.a\n",
    "#### Here we want to plot the distribution of the categories in each pair of features. First off we group the data by target column. Then In plot_columns we specify index of each pair of columns. and then we plot the specified features of the groups."
   ]
  },
  {
   "cell_type": "code",
   "execution_count": 18,
   "metadata": {},
   "outputs": [
    {
     "data": {
      "image/png": "[encoded data removed]",
      "text/plain": [
       "<Figure size 1440x720 with 6 Axes>"
      ]
     },
     "metadata": {
      "needs_background": "light"
     },
     "output_type": "display_data"
    }
   ],
   "source": [
    "fig, axes = plt.subplots(2,3, figsize=(20,10))\n",
    "axes = axes.flat\n",
    "groups = data.groupby(\"Class\")\n",
    "columns = data.columns\n",
    "plot_columns = [(0,1), (0,2), (0,3), (1,2), (1,3), (2,3)]\n",
    "\n",
    "for i,p in enumerate(plot_columns):\n",
    "    for name, group in groups:\n",
    "        axes[i].plot(group[columns[p[0]]], group[columns[p[1]]], marker=\"o\", linestyle=\"\", label=name)\n",
    "        axes[i].set_xlabel(columns[p[0]])\n",
    "        axes[i].set_ylabel(columns[p[1]])\n",
    "        axes[i].legend()"
   ]
  },
  {
   "cell_type": "markdown",
   "metadata": {},
   "source": [
    "#### We can conclude from above plots that based on features Petal_Lenth and Petal_Width the three categories are more distinctivly and linearly separable so a lineaer classifier can have more accuracy based on these two features."
   ]
  },
  {
   "cell_type": "markdown",
   "metadata": {},
   "source": [
    "# 8.b\n",
    "#### In train_test_splitter function we select  80% of data for training and 20% of data for testing."
   ]
  },
  {
   "cell_type": "code",
   "execution_count": 19,
   "metadata": {},
   "outputs": [],
   "source": [
    "def train_test_splitter(data_to_split):\n",
    "    split_point =  int(0.8 * len(data_to_split))\n",
    "    X_train = data_to_split.iloc[:split_point, [0,1,2,3]]\n",
    "    y_train =  data_to_split.iloc[:split_point, [-1]]\n",
    "    X_test = data_to_split.iloc[split_point:, [0,1,2,3]]\n",
    "    y_test = data_to_split.iloc[split_point:, [-1]]\n",
    "    return(X_train, X_test, y_train, y_test)\n",
    "\n",
    "X_train, X_test, y_train, y_test = train_test_splitter(data)\n",
    "X_train_normal, X_test_normal, y_train_normal, y_test_normal = train_test_splitter(data_normalized)"
   ]
  },
  {
   "cell_type": "markdown",
   "metadata": {},
   "source": [
    "#### We assign a unique integer for each class name(later it will help in more simple coding)"
   ]
  },
  {
   "cell_type": "code",
   "execution_count": 20,
   "metadata": {},
   "outputs": [
    {
     "data": {
      "text/plain": [
       "{'Iris-setosa': 0, 'Iris-versicolor': 1, 'Iris-virginica': 2}"
      ]
     },
     "execution_count": 20,
     "metadata": {},
     "output_type": "execute_result"
    }
   ],
   "source": [
    "class_idx = {}\n",
    "for i,c in enumerate(categories):\n",
    "    class_idx[c] = i\n",
    "class_idx"
   ]
  },
  {
   "cell_type": "markdown",
   "metadata": {},
   "source": [
    "#### Here we build the classifier function. It uses Euclidian distance and for this reason it iterates over test samples and for each sample it subtracts the sample from all training samples and finds the square of the result. Then finds the minimum of them and then uses the closest point class as the prediction for current test sample. Meanwhile we compare the prediction result for each test point, for the real class of that point and if it is true we increment the 'corrects' variable which is 0 at first. \n",
    "#### Also we have an n by n confusion matrix which is initially zeros.  For each predicted class i and real class j we increment the matrix_ij to build the confusion matrix.\n",
    "#### This classifier returns the accuracy and confusion matrix."
   ]
  },
  {
   "cell_type": "code",
   "execution_count": 21,
   "metadata": {},
   "outputs": [],
   "source": [
    "def nn_classify(X_train, X_test, y_train, y_test):\n",
    "    \n",
    "    conf_mtx = np.zeros((3,3))\n",
    "    corrects = 0\n",
    "    \n",
    "    for i, _ in X_test.iterrows():\n",
    "        diffs = X_train.loc[:, feature_columns] - X_test.loc[i, feature_columns].squeeze(0)\n",
    "        nearest_index = diffs.pow(2).sum(axis=1).idxmin()\n",
    "        \n",
    "        prediction = y_train.loc[nearest_index, 'Class']\n",
    "        real_class = y_test.loc[i, 'Class']\n",
    "        \n",
    "        conf_mtx[class_idx[prediction]][class_idx[real_class]] += 1\n",
    "        \n",
    "        if prediction == y_test.loc[i, 'Class']:\n",
    "            corrects += 1\n",
    "        \n",
    "    accuracy = corrects/len(X_test) * 100\n",
    "    return accuracy, conf_mtx"
   ]
  },
  {
   "cell_type": "markdown",
   "metadata": {},
   "source": [
    "### Accuracy and Confusoin Matrix"
   ]
  },
  {
   "cell_type": "markdown",
   "metadata": {},
   "source": [
    "### 8.b: Non-Normalized Data"
   ]
  },
  {
   "cell_type": "code",
   "execution_count": 22,
   "metadata": {},
   "outputs": [],
   "source": [
    "accuracy, conf_mtx = nn_classify(X_train, X_test, y_train, y_test)"
   ]
  },
  {
   "cell_type": "code",
   "execution_count": 23,
   "metadata": {},
   "outputs": [
    {
     "name": "stdout",
     "output_type": "stream",
     "text": [
      "accuracy of NN classifier for non-normalized data is: 97 %\n"
     ]
    }
   ],
   "source": [
    "print('accuracy of NN classifier for non-normalized data is:', round(accuracy), '%')"
   ]
  },
  {
   "cell_type": "code",
   "execution_count": 24,
   "metadata": {},
   "outputs": [
    {
     "name": "stdout",
     "output_type": "stream",
     "text": [
      "confusion matrix of NN classifier for non-normalized data is:\n",
      "[[ 7.  0.  0.]\n",
      " [ 0. 11.  1.]\n",
      " [ 0.  0. 11.]]\n"
     ]
    }
   ],
   "source": [
    "print('confusion matrix of NN classifier for non-normalized data is:')\n",
    "print(conf_mtx)"
   ]
  },
  {
   "cell_type": "markdown",
   "metadata": {},
   "source": [
    "### 8.b: Normalized Data"
   ]
  },
  {
   "cell_type": "code",
   "execution_count": 25,
   "metadata": {},
   "outputs": [],
   "source": [
    "accuracy, conf_mtx = nn_classify(X_train_normal, X_test_normal, y_train_normal, y_test_normal)"
   ]
  },
  {
   "cell_type": "code",
   "execution_count": 26,
   "metadata": {},
   "outputs": [
    {
     "name": "stdout",
     "output_type": "stream",
     "text": [
      "accuracy of NN classifier for normalized data is: 97 %\n"
     ]
    }
   ],
   "source": [
    "print('accuracy of NN classifier for normalized data is:', round(accuracy), '%')"
   ]
  },
  {
   "cell_type": "markdown",
   "metadata": {},
   "source": [
    "#### I tried different seeds for shuffling and for different seeds the difference between seeds are different. In current seed they have no differnece."
   ]
  },
  {
   "cell_type": "markdown",
   "metadata": {},
   "source": [
    "# 8.c"
   ]
  },
  {
   "cell_type": "code",
   "execution_count": 27,
   "metadata": {},
   "outputs": [
    {
     "name": "stdout",
     "output_type": "stream",
     "text": [
      "confusion matrix of NN classifier for normalized data is:\n",
      "[[ 7.  0.  0.]\n",
      " [ 0. 11.  1.]\n",
      " [ 0.  0. 11.]]\n"
     ]
    }
   ],
   "source": [
    "print('confusion matrix of NN classifier for normalized data is:')\n",
    "print(conf_mtx)"
   ]
  },
  {
   "cell_type": "markdown",
   "metadata": {},
   "source": [
    "#### Now we want to calculate the presision, recall and f1-score for each target class. First we initiaze 3 arrays one for each. "
   ]
  },
  {
   "cell_type": "code",
   "execution_count": 28,
   "metadata": {},
   "outputs": [],
   "source": [
    "precisions = []\n",
    "recalls = []\n",
    "f1 = []"
   ]
  },
  {
   "cell_type": "markdown",
   "metadata": {},
   "source": [
    "#### The we iterate over categories and calculate each metric for each category will following formula and append the result to the correspoing array:"
   ]
  },
  {
   "cell_type": "markdown",
   "metadata": {},
   "source": [
    "$$\n",
    "presisoin = \\frac{TP}{TP + FP} \\\\\n",
    "recall = \\frac{TP}{TP + FN} \\\\\n",
    "F1score = 2 \\times \\frac{recall \\times presisoin}{recall + presicion}\n",
    "$$"
   ]
  },
  {
   "cell_type": "code",
   "execution_count": 29,
   "metadata": {},
   "outputs": [],
   "source": [
    "for i in range(len(categories)):\n",
    "    precision = conf_mtx[i][i] / conf_mtx.sum(axis=1)[i]\n",
    "    precisions.append(precision)\n",
    "    \n",
    "    recall = conf_mtx[i][i] / conf_mtx.sum(axis=0)[i]\n",
    "    recalls.append(recall)\n",
    "    f1.append(2 * (precision * recall) / (precision + recall))"
   ]
  },
  {
   "cell_type": "code",
   "execution_count": 30,
   "metadata": {},
   "outputs": [
    {
     "name": "stdout",
     "output_type": "stream",
     "text": [
      "precision for class Iris-setosa = 1.0\n",
      "recall for class Iris-setosa = 1.0\n",
      "F1-score for class Iris-setosa = 1.0\n",
      "\n",
      "precision for class Iris-versicolor = 0.917\n",
      "recall for class Iris-versicolor = 1.0\n",
      "F1-score for class Iris-versicolor = 1.0\n",
      "\n",
      "precision for class Iris-virginica = 1.0\n",
      "recall for class Iris-virginica = 1.0\n",
      "F1-score for class Iris-virginica = 1.0\n",
      "\n"
     ]
    }
   ],
   "source": [
    "for i in range(len(categories)):\n",
    "    print('precision for class {} = {}'.format(categories[i], round(precisions[i], 3)))\n",
    "    print('recall for class {} = {}'.format(categories[i], round(recalls[i])))\n",
    "    print('F1-score for class {} = {}\\n'.format(categories[i], round(f1[i])))"
   ]
  },
  {
   "cell_type": "markdown",
   "metadata": {},
   "source": [
    "# 8.d Using Sklearn"
   ]
  },
  {
   "cell_type": "code",
   "execution_count": 31,
   "metadata": {},
   "outputs": [],
   "source": [
    "import sklearn\n",
    "from sklearn.model_selection import train_test_split\n",
    "from sklearn.neighbors import KNeighborsClassifier\n",
    "from sklearn.preprocessing import label_binarize\n",
    "from sklearn.metrics import roc_curve, auc"
   ]
  },
  {
   "cell_type": "code",
   "execution_count": 32,
   "metadata": {},
   "outputs": [],
   "source": [
    "data = pd.read_csv(\"Iris.csv\")\n",
    "data_normalized = normalize(data)"
   ]
  },
  {
   "cell_type": "code",
   "execution_count": 33,
   "metadata": {},
   "outputs": [],
   "source": [
    "X = data[feature_columns]\n",
    "y = data['Class']\n",
    "\n",
    "X_normalized = data_normalized[feature_columns]\n",
    "y_normalized = data_normalized['Class']"
   ]
  },
  {
   "cell_type": "markdown",
   "metadata": {},
   "source": [
    "#### Here we binarize each sample's class(also called one-hot, one-vs-rest) because we want to plot the roc for each class individually and sklearn roc plots only work for binary classifiction."
   ]
  },
  {
   "cell_type": "code",
   "execution_count": 34,
   "metadata": {},
   "outputs": [],
   "source": [
    "y_binary = label_binarize(y, classes=y.unique())\n",
    "y_normalized_binary = label_binarize(y_normalized, classes=y_normalized.unique())"
   ]
  },
  {
   "cell_type": "markdown",
   "metadata": {},
   "source": [
    "#### for example for first sample the target will be shown like [1,0,0] it means that it's target class is first class:"
   ]
  },
  {
   "cell_type": "code",
   "execution_count": 35,
   "metadata": {},
   "outputs": [
    {
     "data": {
      "text/plain": [
       "array([1, 0, 0])"
      ]
     },
     "execution_count": 35,
     "metadata": {},
     "output_type": "execute_result"
    }
   ],
   "source": [
    "y_binary[0]"
   ]
  },
  {
   "cell_type": "code",
   "execution_count": 36,
   "metadata": {},
   "outputs": [],
   "source": [
    "X_train, X_test, y_train, y_test = train_test_split(X, y_binary, test_size=0.2, random_state=seed)\n",
    "X_train_normal, X_test_normal, y_train_normal, y_test_normal = train_test_split(X_normalized, y_normalized_binary,\n",
    "                                                                                test_size=0.2, random_state=seed)"
   ]
  },
  {
   "cell_type": "markdown",
   "metadata": {},
   "source": [
    "#### Here we use KNeighborsClassifier with k = 1 to build a nearest neighbour classifier"
   ]
  },
  {
   "cell_type": "code",
   "execution_count": 37,
   "metadata": {},
   "outputs": [],
   "source": [
    "knn = KNeighborsClassifier(n_neighbors=1)"
   ]
  },
  {
   "cell_type": "markdown",
   "metadata": {},
   "source": [
    "## Non-Normalized Data"
   ]
  },
  {
   "cell_type": "markdown",
   "metadata": {},
   "source": [
    "#### Now we fit the classifer to train data."
   ]
  },
  {
   "cell_type": "code",
   "execution_count": 38,
   "metadata": {},
   "outputs": [],
   "source": [
    "knn.fit(X_train, y_train);"
   ]
  },
  {
   "cell_type": "markdown",
   "metadata": {},
   "source": [
    "#### We find the accurancy of the model with score function. We can see that the classifier has performed quite well on thNon-Normalized data:"
   ]
  },
  {
   "cell_type": "code",
   "execution_count": 39,
   "metadata": {},
   "outputs": [
    {
     "name": "stdout",
     "output_type": "stream",
     "text": [
      "score on non-normalized data = 100.0 %\n"
     ]
    }
   ],
   "source": [
    "print('score on non-normalized data =', knn.score(X_test, y_test) * 100, '%')"
   ]
  },
  {
   "cell_type": "markdown",
   "metadata": {},
   "source": [
    "## Normalized Data"
   ]
  },
  {
   "cell_type": "code",
   "execution_count": 40,
   "metadata": {},
   "outputs": [
    {
     "name": "stdout",
     "output_type": "stream",
     "text": [
      "score on normalized data = 96.66666666666667 %\n"
     ]
    }
   ],
   "source": [
    "knn.fit(X_train_normal, y_train_normal)\n",
    "y_pred = knn.predict(X_test_normal)\n",
    "print('score on normalized data =', knn.score(X_test_normal, y_test_normal) * 100, '%')"
   ]
  },
  {
   "cell_type": "markdown",
   "metadata": {},
   "source": [
    "#### Here we plot the roc curves for each class. First we iterate over classes and find the fp-rate and tp rate for each and save them in fpr, tpr arrys. Also we save area under curve for each roc curve in roc_auc array. Then we iterate over these arrays and plot them and we show the area as a legend at the buttom of each plot."
   ]
  },
  {
   "cell_type": "code",
   "execution_count": 41,
   "metadata": {},
   "outputs": [
    {
     "data": {
      "image/png": "[encoded data removed]",
      "text/plain": [
       "<Figure size 1440x576 with 3 Axes>"
      ]
     },
     "metadata": {
      "needs_background": "light"
     },
     "output_type": "display_data"
    }
   ],
   "source": [
    "n_classes = y_test.shape[1]\n",
    "fpr = dict()\n",
    "tpr = dict()\n",
    "roc_auc = dict()\n",
    "for i in range(n_classes):\n",
    "    fpr[i], tpr[i], _ = roc_curve(y_test[:, i], y_pred[:, i])\n",
    "    roc_auc[i] = auc(fpr[i], tpr[i])\n",
    "\n",
    "# Plot of a ROC curve for each class\n",
    "fig, axes = plt.subplots(1,3, figsize=(20,8))\n",
    "axes = axes.flat\n",
    "for i in range(n_classes):\n",
    "    axes[i].plot(fpr[i], tpr[i], label='ROC curve (area = {})'.format(roc_auc[i]))\n",
    "    axes[i].plot([0, 1], [0, 1], 'k--')\n",
    "    axes[i].set_xlim([0.0, 1.0])\n",
    "    axes[i].set_ylim([0.0, 1.05])\n",
    "    axes[i].fill_between(fpr[i], fpr[i], tpr[i], 1, color='silver')\n",
    "    axes[i].set_xlabel('False Positive Rate')\n",
    "    axes[i].set_ylabel('True Positive Rate')\n",
    "    axes[i].set_title('Receiver operating characteristic')\n",
    "    axes[i].legend(loc=\"lower right\")"
   ]
  },
  {
   "cell_type": "code",
   "execution_count": 42,
   "metadata": {},
   "outputs": [
    {
     "name": "stdout",
     "output_type": "stream",
     "text": [
      "              precision    recall  f1-score   support\n",
      "\n",
      "           0       1.00      1.00      1.00        10\n",
      "           1       1.00      0.89      0.94         9\n",
      "           2       0.92      1.00      0.96        11\n",
      "\n",
      "   micro avg       0.97      0.97      0.97        30\n",
      "   macro avg       0.97      0.96      0.97        30\n",
      "weighted avg       0.97      0.97      0.97        30\n",
      " samples avg       0.97      0.97      0.97        30\n",
      "\n"
     ]
    }
   ],
   "source": [
    "from sklearn.metrics import classification_report, roc_curve, roc_auc_score\n",
    "print(classification_report(y_test, y_pred))"
   ]
  },
  {
   "cell_type": "markdown",
   "metadata": {},
   "source": [
    "#### Here we plot the confusoin matrix. Above we had binarized the target column. But sklearn plot_confusion_matrix does not work with binarized column. So again we split the train-test data with the main(non-binary) target column and plot the confusion matrix."
   ]
  },
  {
   "cell_type": "code",
   "execution_count": 43,
   "metadata": {},
   "outputs": [
    {
     "name": "stdout",
     "output_type": "stream",
     "text": [
      "Confusion matrix:\n",
      "[[10  0  0]\n",
      " [ 0  8  1]\n",
      " [ 0  0 11]]\n"
     ]
    },
    {
     "data": {
      "image/png": "[encoded data removed]",
      "text/plain": [
       "<Figure size 432x288 with 2 Axes>"
      ]
     },
     "metadata": {
      "needs_background": "light"
     },
     "output_type": "display_data"
    }
   ],
   "source": [
    "from sklearn.metrics import classification_report, confusion_matrix, plot_confusion_matrix\n",
    "\n",
    "X_train_normal, X_test_normal, y_train_normal, y_test_normal = train_test_split(X_normalized, y_normalized,\n",
    "                                                                                test_size=0.2, random_state=seed)\n",
    "knn.fit(X_train_normal, y_train_normal)\n",
    "disp = plot_confusion_matrix(knn, X_test_normal, y_test_normal, values_format = '.5g')\n",
    "disp.figure_.suptitle(\"Confusion Matrix\")\n",
    "print(\"Confusion matrix:\\n%s\" % disp.confusion_matrix)"
   ]
  },
  {
   "cell_type": "code",
   "execution_count": 44,
   "metadata": {},
   "outputs": [],
   "source": [
    "######################################### PROBLEM SEPARATION #######################################################\n",
    "##############################################################################################################\n",
    "##############################################################################################################"
   ]
  },
  {
   "cell_type": "markdown",
   "metadata": {},
   "source": [
    "# Problem 9"
   ]
  },
  {
   "cell_type": "markdown",
   "metadata": {},
   "source": [
    "## 9.a\n",
    "#### In naive bayes classifier we assume that features of the data are i.i.d and so we can write:\n",
    "$$\n",
    "P(x_1,x_2,\\dots, x_n\\,\\,|w) = P(x_1|w)\\times P(x_2|w)\\times\\dots\\times P(x_n|w)\n",
    "$$\n",
    "Naive bayes helps us is named naive because it is not usually the case that features are i.i.d but for simplicity we assume that. Naive bayes is not optimal.\n",
    "In optimal bayes we must consider an specific distribution for $P(x_1,x_2,\\dots, x_n\\,\\,|w)$"
   ]
  },
  {
   "cell_type": "markdown",
   "metadata": {},
   "source": [
    "## 9.b"
   ]
  },
  {
   "cell_type": "code",
   "execution_count": 45,
   "metadata": {},
   "outputs": [],
   "source": [
    "import pandas as pd\n",
    "import numpy as np"
   ]
  },
  {
   "cell_type": "markdown",
   "metadata": {},
   "source": [
    "### Naive Bayes:\n",
    "#### In fit function we find the priors by fequnecy of occurence. Then we group the training data by there target class and the for each group we have find mean and std and we have saved them in mean and vars array.\n",
    "\n",
    "#### In predict function we iterate over test samples and for each sample we have iterated on each class and  found the log-likelihood by gaussian normal function and we have found the product of loglikelihood to the prior of that class and then we have found the argmax class and returned it as predction."
   ]
  },
  {
   "cell_type": "code",
   "execution_count": 46,
   "metadata": {},
   "outputs": [],
   "source": [
    "class NBC:\n",
    "    def fit(self, X, y):\n",
    "        X_matrix = X.to_numpy()\n",
    "        num_samples, num_features = X.shape\n",
    "        self.classes = np.unique(y)\n",
    "        self.priors = y['Class'].value_counts() / num_samples\n",
    "        self.means = X.groupby(y['Class']).mean().to_numpy()\n",
    "        self.vars = X.groupby(y['Class']).std().to_numpy()\n",
    "    \n",
    "    \n",
    "    def predict(self, X_test):\n",
    "        return [self._predict(x) for x in X_test]\n",
    "        \n",
    "    def _predict(self, x):\n",
    "        posteriors = []\n",
    "        for c in self.classes:\n",
    "            c = int(c)\n",
    "            s_c = self.vars[c]\n",
    "            mean_c = self.means[c]\n",
    "            \n",
    "            non_zero_vars = s_c != 0\n",
    "            s_c = s_c[non_zero_vars]\n",
    "            mean_c = mean_c[non_zero_vars]\n",
    "            x_c = x[non_zero_vars]\n",
    "            \n",
    "            pi = np.pi\n",
    "            likelihoods = np.exp(-(x_c-mean_c)**2 / (2 * s_c)) / (np.sqrt(2*pi*s_c + 1e-5))\n",
    "            posterior = np.sum(np.log(likelihoods)) + np.log(self.priors[c])\n",
    "            posteriors.append(posterior)\n",
    "            \n",
    "        return self.classes[np.argmax(posteriors)]\n",
    "\n",
    "nbc = NBC()"
   ]
  },
  {
   "cell_type": "markdown",
   "metadata": {},
   "source": [
    "## 9.b Performance of Naive Bayes on MNIST Data Set"
   ]
  },
  {
   "cell_type": "code",
   "execution_count": 47,
   "metadata": {},
   "outputs": [],
   "source": [
    "X_train = pd.read_csv('TinyMNIST/trainData.csv', header=None)\n",
    "X_test = pd.read_csv('TinyMNIST/testData.csv', header=None)\n",
    "y_train = pd.read_csv('TinyMNIST/trainLabels.csv', header=None)\n",
    "y_test = pd.read_csv('TinyMNIST/testLabels.csv', header=None)"
   ]
  },
  {
   "cell_type": "code",
   "execution_count": 48,
   "metadata": {},
   "outputs": [],
   "source": [
    "y_train = y_train.rename({0:'Class'}, axis='columns')\n",
    "y_test = y_test.rename({0:'Class'}, axis='columns')"
   ]
  },
  {
   "cell_type": "code",
   "execution_count": 49,
   "metadata": {},
   "outputs": [],
   "source": [
    "nbc.fit(X_train, y_train)"
   ]
  },
  {
   "cell_type": "markdown",
   "metadata": {},
   "source": [
    "#### We can see that the performance of naive bayes classifier on test samples is 49.3% and it can be improved by using normalizatoin and whitenning."
   ]
  },
  {
   "cell_type": "code",
   "execution_count": 50,
   "metadata": {},
   "outputs": [
    {
     "name": "stdout",
     "output_type": "stream",
     "text": [
      "accuracy of our naive bayes = 49.4 %\n"
     ]
    },
    {
     "name": "stderr",
     "output_type": "stream",
     "text": [
      "/home/amin/anaconda3/lib/python3.7/site-packages/ipykernel_launcher.py:28: RuntimeWarning: divide by zero encountered in log\n"
     ]
    }
   ],
   "source": [
    "predicts = nbc.predict(X_test.to_numpy())\n",
    "num_classes = len(np.unique(y_test))\n",
    "accuracy = np.sum(predicts == y_test.to_numpy().reshape(1,-1))\n",
    "ac = accuracy / len(predicts)\n",
    "print('accuracy of our naive bayes =', round(ac*100, 1),'%');"
   ]
  },
  {
   "cell_type": "markdown",
   "metadata": {},
   "source": [
    "### Now we iterate over predictions and obtain confusion matrix for our naive bayes classifier"
   ]
  },
  {
   "cell_type": "code",
   "execution_count": 51,
   "metadata": {},
   "outputs": [],
   "source": [
    "conf_mtx_mnist = np.zeros((num_classes, num_classes))\n",
    "for i in range(len(predicts)):\n",
    "    conf_mtx_mnist[int(predicts[i])][int(y_test.to_numpy()[i])] += 1"
   ]
  },
  {
   "cell_type": "code",
   "execution_count": 52,
   "metadata": {},
   "outputs": [
    {
     "name": "stdout",
     "output_type": "stream",
     "text": [
      "F1-score for class 0 = 0.6686217008797654\n",
      "\n",
      "F1-score for class 1 = 0.5279850746268656\n",
      "\n",
      "F1-score for class 2 = 0.7027027027027025\n",
      "\n",
      "F1-score for class 3 = 0.4747774480712167\n",
      "\n",
      "F1-score for class 4 = 0.4333635539437897\n",
      "\n",
      "F1-score for class 5 = 0.4126074498567336\n",
      "\n",
      "F1-score for class 6 = 0.7132530120481927\n",
      "\n",
      "F1-score for class 7 = 0.6252771618625278\n",
      "\n",
      "F1-score for class 8 = nan\n",
      "\n",
      "F1-score for class 9 = 0.016260162601626018\n",
      "\n"
     ]
    },
    {
     "name": "stderr",
     "output_type": "stream",
     "text": [
      "/home/amin/anaconda3/lib/python3.7/site-packages/ipykernel_launcher.py:5: RuntimeWarning: invalid value encountered in double_scalars\n",
      "  \"\"\"\n"
     ]
    }
   ],
   "source": [
    "precisions = []\n",
    "recalls = []\n",
    "f1 = []\n",
    "for i in range(num_classes):\n",
    "    precision = conf_mtx_mnist[i][i] / conf_mtx_mnist.sum(axis=1)[i]\n",
    "    precisions.append(precision)\n",
    "    \n",
    "    recall = conf_mtx_mnist[i][i] / conf_mtx_mnist.sum(axis=0)[i]\n",
    "    recalls.append(recall)\n",
    "    f1.append(2 * (precision * recall) / (precision + recall))\n",
    "for i in range(num_classes):\n",
    "    print('F1-score for class {} = {}\\n'.format(i, f1[i]))"
   ]
  },
  {
   "cell_type": "markdown",
   "metadata": {},
   "source": [
    "## 9.c Performance of Naive Bayes Noisy Moon Data Set"
   ]
  },
  {
   "cell_type": "code",
   "execution_count": 53,
   "metadata": {},
   "outputs": [],
   "source": [
    "data_moon = pd.read_csv('./Noisy Moons.csv', header=None)"
   ]
  },
  {
   "cell_type": "code",
   "execution_count": 54,
   "metadata": {},
   "outputs": [],
   "source": [
    "feature_columns = [0,1]\n",
    "def normalize(df):\n",
    "    new_df = df.copy()\n",
    "    for col in feature_columns:\n",
    "        new_df[col] -= df[col].mean()\n",
    "        new_df[col] /= df[col].std()\n",
    "    return new_df\n",
    "data_moon = normalize(data_moon)"
   ]
  },
  {
   "cell_type": "code",
   "execution_count": 55,
   "metadata": {},
   "outputs": [],
   "source": [
    "from sklearn.model_selection import train_test_split\n",
    "X_moon = data_moon[[0,1]]\n",
    "y_moon = data_moon[[2]]\n",
    "seed = 49\n",
    "X_train_moon, X_test_moon, y_train_moon, y_test_moon = train_test_split(X_moon, y_moon, test_size=0.2, random_state=seed)"
   ]
  },
  {
   "cell_type": "markdown",
   "metadata": {},
   "source": [
    "#### We can see that our implentation of naive bayes classifier has 82% performance noisy moon dataset."
   ]
  },
  {
   "cell_type": "code",
   "execution_count": 56,
   "metadata": {},
   "outputs": [],
   "source": [
    "y_train_moon = y_train_moon.rename({2:'Class'}, axis='columns')\n",
    "y_test_moon = y_test_moon.rename({2:'Class'}, axis='columns')"
   ]
  },
  {
   "cell_type": "code",
   "execution_count": 57,
   "metadata": {},
   "outputs": [
    {
     "name": "stdout",
     "output_type": "stream",
     "text": [
      "accuracy of our naive bayes = 82.0 %\n"
     ]
    }
   ],
   "source": [
    "nbc = NBC()\n",
    "nbc.fit(X_train_moon, y_train_moon)\n",
    "predicts = nbc.predict(X_test_moon.to_numpy())\n",
    "accuracy = np.sum(predicts == y_test_moon.to_numpy().reshape(1,-1))\n",
    "ac = accuracy / len(predicts)\n",
    "print('accuracy of our naive bayes =', round(ac*100, 1),'%')"
   ]
  },
  {
   "cell_type": "markdown",
   "metadata": {},
   "source": [
    "#### confusion matrix for noisy moon"
   ]
  },
  {
   "cell_type": "code",
   "execution_count": 58,
   "metadata": {},
   "outputs": [],
   "source": [
    "num_classes = len(np.unique(y_test_moon))\n",
    "conf_mtx = np.zeros((num_classes, num_classes))\n",
    "for i in range(len(predicts)):\n",
    "    conf_mtx[int(predicts[i])][int(y_test_moon.to_numpy()[i])] += 1"
   ]
  },
  {
   "cell_type": "code",
   "execution_count": 59,
   "metadata": {},
   "outputs": [
    {
     "name": "stdout",
     "output_type": "stream",
     "text": [
      "F1-score for class 0 = 0.830188679245283\n",
      "\n",
      "F1-score for class 1 = 0.8085106382978724\n",
      "\n"
     ]
    }
   ],
   "source": [
    "precisions = []\n",
    "recalls = []\n",
    "f1 = []\n",
    "for i in range(num_classes):\n",
    "    precision = conf_mtx[i][i] / conf_mtx.sum(axis=1)[i]\n",
    "    precisions.append(precision)\n",
    "    \n",
    "    recall = conf_mtx[i][i] / conf_mtx.sum(axis=0)[i]\n",
    "    recalls.append(recall)\n",
    "    f1.append(2 * (precision * recall) / (precision + recall))\n",
    "for i in range(num_classes):\n",
    "    print('F1-score for class {} = {}\\n'.format(i, f1[i]))"
   ]
  },
  {
   "cell_type": "markdown",
   "metadata": {},
   "source": [
    "# 9.d Using Sklearn"
   ]
  },
  {
   "cell_type": "code",
   "execution_count": 60,
   "metadata": {},
   "outputs": [],
   "source": [
    "X_train = pd.read_csv('TinyMNIST/trainData.csv', header=None)\n",
    "X_test = pd.read_csv('TinyMNIST/testData.csv', header=None)\n",
    "y_train = pd.read_csv('TinyMNIST/trainLabels.csv', header=None)\n",
    "y_test = pd.read_csv('TinyMNIST/testLabels.csv', header=None)"
   ]
  },
  {
   "cell_type": "markdown",
   "metadata": {},
   "source": [
    "#### we see that sklearn has 50% performance"
   ]
  },
  {
   "cell_type": "code",
   "execution_count": 61,
   "metadata": {},
   "outputs": [
    {
     "name": "stdout",
     "output_type": "stream",
     "text": [
      "accuracy of sklearn naive bayes = 50.7 %\n"
     ]
    }
   ],
   "source": [
    "from sklearn.naive_bayes import GaussianNB\n",
    "gnb = GaussianNB()\n",
    "gnb.fit(X_train, y_train[0])\n",
    "ac = gnb.score(X_test, y_test[0])\n",
    "print('accuracy of sklearn naive bayes =', round(ac*100, 1),'%')"
   ]
  },
  {
   "cell_type": "code",
   "execution_count": 62,
   "metadata": {},
   "outputs": [
    {
     "name": "stdout",
     "output_type": "stream",
     "text": [
      "              precision    recall  f1-score   support\n",
      "\n",
      "         0.0       0.78      0.80      0.79       219\n",
      "         1.0       0.53      0.97      0.69       287\n",
      "         2.0       0.80      0.26      0.40       276\n",
      "         3.0       0.75      0.24      0.37       254\n",
      "         4.0       0.77      0.28      0.41       275\n",
      "         5.0       0.83      0.07      0.13       221\n",
      "         6.0       0.62      0.80      0.70       225\n",
      "         7.0       0.86      0.23      0.37       257\n",
      "         8.0       0.25      0.58      0.35       242\n",
      "         9.0       0.39      0.84      0.53       244\n",
      "\n",
      "    accuracy                           0.51      2500\n",
      "   macro avg       0.66      0.51      0.47      2500\n",
      "weighted avg       0.66      0.51      0.47      2500\n",
      "\n"
     ]
    }
   ],
   "source": [
    "from sklearn.metrics import classification_report\n",
    "y_pred = gnb.predict(X_test)\n",
    "print(classification_report(y_test[0], y_pred));"
   ]
  },
  {
   "cell_type": "markdown",
   "metadata": {},
   "source": [
    "#### We can see that sklearn naive bayes classifier also has 82% performance noisy moon dataset. "
   ]
  },
  {
   "cell_type": "code",
   "execution_count": 63,
   "metadata": {},
   "outputs": [
    {
     "name": "stdout",
     "output_type": "stream",
     "text": [
      "accuracy of sklearn naive bayes = 82.0 %\n"
     ]
    }
   ],
   "source": [
    "gnb = GaussianNB()\n",
    "gnb.fit(X_train_moon, y_train_moon['Class'])\n",
    "ac = gnb.score(X_test_moon, y_test_moon)\n",
    "print('accuracy of sklearn naive bayes =', round(ac*100, 1),'%')"
   ]
  },
  {
   "cell_type": "code",
   "execution_count": 64,
   "metadata": {},
   "outputs": [
    {
     "name": "stdout",
     "output_type": "stream",
     "text": [
      "              precision    recall  f1-score   support\n",
      "\n",
      "         0.0       0.79      0.88      0.83        50\n",
      "         1.0       0.86      0.76      0.81        50\n",
      "\n",
      "    accuracy                           0.82       100\n",
      "   macro avg       0.82      0.82      0.82       100\n",
      "weighted avg       0.82      0.82      0.82       100\n",
      "\n"
     ]
    }
   ],
   "source": [
    "from sklearn.metrics import classification_report\n",
    "y_pred_moon = gnb.predict(X_test_moon)\n",
    "print(classification_report(y_test_moon, y_pred_moon));"
   ]
  },
  {
   "cell_type": "markdown",
   "metadata": {},
   "source": [
    "### Conclusion of Problem 9:\n",
    "#### our implementation of Naive Bayes classifier had same result as sklearn classifier:\n",
    "#### about 50 % for mnist dataset and about 82% for noisy moon dataset\n",
    "#### Also F1 are almost the same"
   ]
  },
  {
   "cell_type": "code",
   "execution_count": 65,
   "metadata": {},
   "outputs": [],
   "source": [
    "######################################### PROBLEM SEPARATION #######################################################\n",
    "##############################################################################################################\n",
    "##############################################################################################################"
   ]
  },
  {
   "cell_type": "markdown",
   "metadata": {},
   "source": [
    "# Problem 10"
   ]
  },
  {
   "cell_type": "code",
   "execution_count": 66,
   "metadata": {},
   "outputs": [],
   "source": [
    "import pandas as pd\n",
    "import numpy as np\n",
    "import matplotlib.pyplot as plt"
   ]
  },
  {
   "cell_type": "markdown",
   "metadata": {},
   "source": [
    "#### We define the sigmoid function as the activation funtion of our model"
   ]
  },
  {
   "cell_type": "code",
   "execution_count": 67,
   "metadata": {},
   "outputs": [],
   "source": [
    "def sigmoid(x):\n",
    "    return 1 / (1 + np.exp(-x))"
   ]
  },
  {
   "cell_type": "markdown",
   "metadata": {},
   "source": [
    "#### I have implemented the Logistic Regression classifier as a class. In this class:\n",
    "- init_weights : returns the initial weights vector that has the same length as each sample.\n",
    "- add_bias : adds bias(1's) to each sample so that we do not need to add bias(b) explicitly in our later calculations.\n",
    "- caculate_loss calculates the sum of squared errors loss\n",
    "- fit : It is the main function. We will find three lines for separating classes. For each class we binarize the target column based on that class(i.e. in a one vs all fassion) using numpy.where(). We have an array of losses and an array of weights that contain losses and weigths found in optaining each line. So we have a for loop that iterates 3 times(we have 3 classes) and the we have a for loop for gradient descent. We save weights and costs of each of the 3 loops in the corresponding arrays."
   ]
  },
  {
   "cell_type": "markdown",
   "metadata": {},
   "source": [
    "### Loss function we have used is sum of squared errors loss"
   ]
  },
  {
   "cell_type": "code",
   "execution_count": 68,
   "metadata": {},
   "outputs": [],
   "source": [
    "class LR:\n",
    "    def __init__(self):\n",
    "        self.costs = []\n",
    "    \n",
    "    def init_weights(self, num_features):\n",
    "        return np.zeros(num_features)\n",
    "                            \n",
    "    \n",
    "    def add_bias(self, X):\n",
    "        return np.insert(X, 0, 1, axis=1)\n",
    "    \n",
    "    def caculate_loss(self, a, y):\n",
    "        m = len(y)\n",
    "        cost = (1 / m) * (np.sum(-y.T.dot(np.log(a)) - (1 - y).T.dot(np.log(1 - a))))\n",
    "        return cost\n",
    "        \n",
    "    \n",
    "    def fit(self, X, y, alpha=0.01, num_iterations=100):\n",
    "        self.classes = np.unique(y)\n",
    "        self.params = []\n",
    "        X = self.add_bias(X)\n",
    "        \n",
    "        m = X.shape[0]\n",
    "        \n",
    "        for c in self.classes:\n",
    "            each_costs = []\n",
    "            y_onevsall = np.where(y == c, 1, 0)\n",
    "            w = self.init_weights(X.shape[1])\n",
    "                            \n",
    "            for i in range(num_iterations):\n",
    "                a = sigmoid(X.dot(w))\n",
    "                dw = (1/m) * X.T.dot(a - y_onevsall)\n",
    "                w -= alpha * dw\n",
    "                each_costs.append(self.caculate_loss(a, y_onevsall))\n",
    "            self.costs.append(each_costs)\n",
    "            self.params.append((c, w))\n",
    "            \n",
    "\n",
    "    def predict(self, X):\n",
    "        X = self.add_bias(X)                   \n",
    "        y_preds = []\n",
    "        for x in X:\n",
    "            one_vs_rest_preds = []\n",
    "            for c, w in self.params:\n",
    "                one_vs_rest_preds.append((sigmoid(x.dot(w)), c))\n",
    "            y_preds.append(max(one_vs_rest_preds)[1])\n",
    "        return y_preds\n",
    "    \n",
    "    def get_params(self):\n",
    "        return [w for c,w in self.params]\n",
    "    \n",
    "    def get_costs(self):\n",
    "        return self.costs"
   ]
  },
  {
   "cell_type": "code",
   "execution_count": 69,
   "metadata": {},
   "outputs": [],
   "source": [
    "data = pd.read_csv('random_dataset.csv', header=None)"
   ]
  },
  {
   "cell_type": "code",
   "execution_count": 70,
   "metadata": {},
   "outputs": [],
   "source": [
    "X = data[[0,1]]\n",
    "y = data[2]"
   ]
  },
  {
   "cell_type": "markdown",
   "metadata": {},
   "source": [
    "#### Here we normalize the data:"
   ]
  },
  {
   "cell_type": "code",
   "execution_count": 71,
   "metadata": {},
   "outputs": [],
   "source": [
    "def normalize(df):\n",
    "    new_df = df.copy()\n",
    "    for col in df.columns:\n",
    "        new_df[col] -= df[col].mean()\n",
    "        new_df[col] /= df[col].std()\n",
    "    return new_df\n",
    "X = normalize(X)"
   ]
  },
  {
   "cell_type": "code",
   "execution_count": 72,
   "metadata": {},
   "outputs": [],
   "source": [
    "lr = LR()\n",
    "lr.fit(X.to_numpy(), y.to_numpy(), 0.01, 1000)"
   ]
  },
  {
   "cell_type": "markdown",
   "metadata": {},
   "source": [
    "#### We can see that the classes are classified completely:"
   ]
  },
  {
   "cell_type": "code",
   "execution_count": 73,
   "metadata": {},
   "outputs": [
    {
     "data": {
      "text/plain": [
       "100.0"
      ]
     },
     "execution_count": 73,
     "metadata": {},
     "output_type": "execute_result"
    }
   ],
   "source": [
    "(lr.predict(X.to_numpy()) == y).sum() * 100 / len(y)"
   ]
  },
  {
   "cell_type": "markdown",
   "metadata": {},
   "source": [
    "#### We get the weiths of the 3 lines to plot them:"
   ]
  },
  {
   "cell_type": "code",
   "execution_count": 74,
   "metadata": {},
   "outputs": [],
   "source": [
    "params = lr.get_params()"
   ]
  },
  {
   "cell_type": "markdown",
   "metadata": {},
   "source": [
    "#### First we scatter plot the data and the we plot the lines:\n",
    "$$\n",
    "w_2x_2 + w_1x_1 + w_0 = 0\n",
    "$$"
   ]
  },
  {
   "cell_type": "code",
   "execution_count": 75,
   "metadata": {},
   "outputs": [
    {
     "data": {
      "text/plain": [
       "(-2, 2)"
      ]
     },
     "execution_count": 75,
     "metadata": {},
     "output_type": "execute_result"
    },
    {
     "data": {
      "image/png": "[encoded data removed]",
      "text/plain": [
       "<Figure size 432x288 with 1 Axes>"
      ]
     },
     "metadata": {
      "needs_background": "light"
     },
     "output_type": "display_data"
    }
   ],
   "source": [
    "fig, ax = plt.subplots()\n",
    "groups = X.groupby(y)\n",
    "columns = X.columns\n",
    "\n",
    "for name, group in groups:\n",
    "    ax.plot(group[0], group[1], marker=\".\", linestyle=\"\", label='Class: ' + str(int(name)))\n",
    "\n",
    "for b, w1, w2 in params:\n",
    "    yx = -w1/w2 * X.to_numpy()[:,0] - b/w2\n",
    "    ax.plot(X.to_numpy()[:,0], yx, linestyle=\"--\")\n",
    "\n",
    "\n",
    "ax.legend()\n",
    "ax.set_title('desicion boundries plot')\n",
    "ax.set_xlabel('feature 1')\n",
    "ax.set_ylabel('feature 2')\n",
    "ax.set_ylim(-2,2)"
   ]
  },
  {
   "cell_type": "markdown",
   "metadata": {},
   "source": [
    "#### We get the cost to plot them:"
   ]
  },
  {
   "cell_type": "code",
   "execution_count": 76,
   "metadata": {},
   "outputs": [],
   "source": [
    "costs = lr.get_costs()"
   ]
  },
  {
   "cell_type": "code",
   "execution_count": 77,
   "metadata": {
    "scrolled": true
   },
   "outputs": [
    {
     "data": {
      "text/plain": [
       "Text(0, 0.5, 'cost')"
      ]
     },
     "execution_count": 77,
     "metadata": {},
     "output_type": "execute_result"
    },
    {
     "data": {
      "image/png": "[encoded data removed]",
      "text/plain": [
       "<Figure size 432x288 with 1 Axes>"
      ]
     },
     "metadata": {
      "needs_background": "light"
     },
     "output_type": "display_data"
    }
   ],
   "source": [
    "fig, ax = plt.subplots()\n",
    "for i in range(len(np.unique(y))):\n",
    "    x = np.arange(len(costs[0]))\n",
    "    ax.plot(x, costs[i], label= 'Class: ' + str(i))\n",
    "plt.legend()\n",
    "ax.set_title('cost based on number of iterations')\n",
    "ax.set_xlabel('num of iterations')\n",
    "ax.set_ylabel('cost')"
   ]
  },
  {
   "cell_type": "markdown",
   "metadata": {},
   "source": [
    "#### We see that the costs are decreasing smoothely(we normalized the data)."
   ]
  },
  {
   "cell_type": "code",
   "execution_count": 78,
   "metadata": {},
   "outputs": [],
   "source": [
    "######################################### PROBLEM SEPARATION #######################################################\n",
    "##############################################################################################################\n",
    "##############################################################################################################"
   ]
  },
  {
   "cell_type": "markdown",
   "metadata": {},
   "source": [
    "# Problem 11"
   ]
  },
  {
   "cell_type": "code",
   "execution_count": 79,
   "metadata": {},
   "outputs": [],
   "source": [
    "import pandas as pd\n",
    "import numpy as np\n",
    "import matplotlib.pyplot as plt"
   ]
  },
  {
   "cell_type": "code",
   "execution_count": 80,
   "metadata": {},
   "outputs": [],
   "source": [
    "def sigmoid(x):\n",
    "    return 1 / (1 + np.exp(-x))"
   ]
  },
  {
   "cell_type": "markdown",
   "metadata": {},
   "source": [
    "#### Normalize is just like the prevoius problem. \n",
    "#### Transform function takes the dataframe with two features and a degree and adds needed powers of the two columns upto degree-1 to that dataframe. For example for degree=7 it the dataframe columns will be:\n",
    "$$\n",
    "x_0: first\\,column\\\\\n",
    "x_1: second\\,column\\\\\n",
    "next\\,columns: x_1^2,\\,x_1^3,\\,x_1^4,\\,x_1^5,\\,x_1^6,\\,x_0^1x_1^1,\\,x_0^1x_1^2, \\dots, x_0^6\n",
    "$$"
   ]
  },
  {
   "cell_type": "code",
   "execution_count": 81,
   "metadata": {},
   "outputs": [],
   "source": [
    "def normalize(df):\n",
    "    new_df = df.copy()\n",
    "    for col in df.columns:\n",
    "        new_df[col] -= df[col].mean()\n",
    "        new_df[col] /= df[col].std()\n",
    "    return new_df\n",
    "\n",
    "def transform(X, deg):\n",
    "    for i in range(0, deg):\n",
    "        for j in range(0, deg):\n",
    "            if(i+j <= 6 and i+j >= 2):\n",
    "                X[str(i) + ',' + str(j)] = X[0].pow(i) * X[1].pow(j)\n",
    "    return X"
   ]
  },
  {
   "cell_type": "markdown",
   "metadata": {},
   "source": [
    " The logistic regression classifier class is like problem 10 but we have added the regularization to the derivative(gradient):\n",
    "$$\n",
    "\\frac{\\lambda}{m} \\sum_{i} w_i\n",
    "$$"
   ]
  },
  {
   "cell_type": "code",
   "execution_count": 82,
   "metadata": {},
   "outputs": [],
   "source": [
    "class LR:\n",
    "    def __init__(self):\n",
    "        self.costs = []\n",
    "    \n",
    "    def init_weights(self, num_features):\n",
    "        return np.zeros(num_features)\n",
    "                            \n",
    "    \n",
    "    def add_bias(self, X):\n",
    "        return np.insert(X, 0, 1, axis=1)\n",
    "    \n",
    "    def fit(self, X, y, alpha=0.01, num_iterations=100, lamda=0.1):\n",
    "        self.classes = np.unique(y)\n",
    "        self.params = []\n",
    "        X = self.add_bias(X)\n",
    "        \n",
    "        m = X.shape[0]\n",
    "        \n",
    "        for c in self.classes:\n",
    "            each_costs = []\n",
    "            y_onevsall = np.where(y == c, 1, 0)\n",
    "            w = self.init_weights(X.shape[1])\n",
    "                            \n",
    "            for i in range(num_iterations):\n",
    "                a = sigmoid(X.dot(w))\n",
    "                dw = (1/m) * X.T.dot(a - y_onevsall) + w.sum() * lamda/m\n",
    "                w -= alpha * dw\n",
    "            self.params.append((c, w))\n",
    "            \n",
    "\n",
    "    def predict(self, X):\n",
    "        X = self.add_bias(X)\n",
    "        y_preds = []\n",
    "        for x in X:\n",
    "            one_vs_rest_preds = []\n",
    "            for c, w in self.params:\n",
    "                one_vs_rest_preds.append((sigmoid(x.dot(w)), c))\n",
    "            y_preds.append(max(one_vs_rest_preds)[1])\n",
    "        return y_preds\n",
    "    \n",
    "    def get_params(self):\n",
    "        return [w for c,w in self.params]"
   ]
  },
  {
   "cell_type": "markdown",
   "metadata": {},
   "source": [
    "#### Here we first normalize and transform the data to multi-feature data and the fit the model to data:"
   ]
  },
  {
   "cell_type": "code",
   "execution_count": 83,
   "metadata": {},
   "outputs": [],
   "source": [
    "data = pd.read_csv('quality_test.csv', header=None)\n",
    "X = data[[0,1]]\n",
    "y = data[2]     \n",
    "\n",
    "X = normalize(X)\n",
    "X = transform(X, 7)\n",
    "\n",
    "lr = LR()\n",
    "lr.fit(X.to_numpy(), y.to_numpy(), alpha=0.01, num_iterations=1000, lamda=0.1)"
   ]
  },
  {
   "cell_type": "markdown",
   "metadata": {},
   "source": [
    "#### Here we find the performance of the classification. It is good but not perfect."
   ]
  },
  {
   "cell_type": "code",
   "execution_count": 84,
   "metadata": {},
   "outputs": [
    {
     "name": "stdout",
     "output_type": "stream",
     "text": [
      "83.1 %\n"
     ]
    }
   ],
   "source": [
    "y_preds = lr.predict(X.to_numpy())\n",
    "print(round((y_preds == y).sum() * 100 / len(y), 1), '%')"
   ]
  },
  {
   "cell_type": "markdown",
   "metadata": {},
   "source": [
    "### Plotting the result:"
   ]
  },
  {
   "cell_type": "markdown",
   "metadata": {},
   "source": [
    " First off we scatter plot each group(category). Then we make a numpy array from the features dataframe. Then we make a 2D meshgrid of points in the range of first and second features to plot the desicion boundary. Then we concatinate the xx and yy points(x and y of meshgrid respectively) to obtain two features for each sample. Now we transform these two columns to desired degree(6) and then we add bias 1's to it(like problem 10). Now we have the complete polynomial x features to plot desicion boundary. We take the dot product of the weights and x to find the predictions(Z). Now it remains to reshape to the same shape as meshgrid. The we plot the contour plot of the meshgrid with the predictions(Z). We specify levels=[0] to plot just one contour plain level."
   ]
  },
  {
   "cell_type": "code",
   "execution_count": 85,
   "metadata": {},
   "outputs": [
    {
     "data": {
      "text/plain": [
       "Text(0, 0.5, 'feature 2')"
      ]
     },
     "execution_count": 85,
     "metadata": {},
     "output_type": "execute_result"
    },
    {
     "data": {
      "image/png": "[encoded data removed]",
      "text/plain": [
       "<Figure size 720x504 with 1 Axes>"
      ]
     },
     "metadata": {
      "needs_background": "light"
     },
     "output_type": "display_data"
    }
   ],
   "source": [
    "fig, ax = plt.subplots(figsize=(10,7))\n",
    "\n",
    "groups = X.groupby(y)\n",
    "for name, group in groups:\n",
    "    ax.plot(group[0], group[1], marker=\".\", linestyle=\"\", label='Class: ' + str(int(name)))\n",
    "        \n",
    "        \n",
    "columns = X.columns\n",
    "X_array = X.to_numpy()\n",
    "\n",
    "w = lr.get_params()[0]\n",
    "\n",
    "plot_step = 0.1\n",
    "x_min, x_max = X_array[:, 0].min() - 1, X_array[:, 0].max() + 1\n",
    "y_min, y_max = X_array[:, 1].min() - 1, X_array[:, 1].max() + 1\n",
    "xx, yy = np.meshgrid(np.arange(x_min, x_max, plot_step), np.arange(y_min, y_max, plot_step))\n",
    "\n",
    "x = transform(pd.DataFrame(np.c_[xx.ravel(), yy.ravel()]), 7).to_numpy()\n",
    "x = np.insert(x, 0, 1, axis=1)\n",
    "Z = x.dot(w)\n",
    "Z = Z.reshape(xx.shape)\n",
    "ax.contour(xx, yy, Z, levels=[0])\n",
    "ax.legend()\n",
    "ax.set_title('desicion boundries plot')\n",
    "ax.set_xlabel('feature 1')\n",
    "ax.set_ylabel('feature 2')"
   ]
  },
  {
   "cell_type": "markdown",
   "metadata": {},
   "source": [
    "#### We see that the desicion boundary has separated the blue and orange points well."
   ]
  }
 ],
 "metadata": {
  "kernelspec": {
   "display_name": "Python 3",
   "language": "python",
   "name": "python3"
  },
  "language_info": {
   "codemirror_mode": {
    "name": "ipython",
    "version": 3
   },
   "file_extension": ".py",
   "mimetype": "text/x-python",
   "name": "python",
   "nbconvert_exporter": "python",
   "pygments_lexer": "ipython3",
   "version": "3.7.6"
  }
 },
 "nbformat": 4,
 "nbformat_minor": 4
}
