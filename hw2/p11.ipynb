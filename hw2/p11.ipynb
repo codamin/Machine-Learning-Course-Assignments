{
 "cells": [
  {
   "cell_type": "code",
   "execution_count": 27,
   "metadata": {},
   "outputs": [],
   "source": [
    "import pandas as pd\n",
    "import numpy as np\n",
    "import matplotlib.pyplot as plt"
   ]
  },
  {
   "cell_type": "code",
   "execution_count": 28,
   "metadata": {},
   "outputs": [],
   "source": [
    "def sigmoid(x):\n",
    "    return 1 / (1 + np.exp(-x))"
   ]
  },
  {
   "cell_type": "code",
   "execution_count": 29,
   "metadata": {},
   "outputs": [],
   "source": [
    "powers = []"
   ]
  },
  {
   "cell_type": "code",
   "execution_count": 30,
   "metadata": {},
   "outputs": [],
   "source": [
    "def normalize(df):\n",
    "    new_df = df.copy()\n",
    "    for col in df.columns:\n",
    "        new_df[col] -= df[col].mean()\n",
    "        new_df[col] /= df[col].std()\n",
    "    return new_df\n",
    "\n",
    "def transform(X, deg):\n",
    "    for i in range(0, deg):\n",
    "        for j in range(0, deg):\n",
    "            if(i+j <= 6 and i+j >= 2):\n",
    "                X[str(i) + ',' + str(j)] = X[0].pow(i) * X[1].pow(j)\n",
    "                powers.append((i,j))\n",
    "    return X"
   ]
  },
  {
   "cell_type": "code",
   "execution_count": 37,
   "metadata": {},
   "outputs": [],
   "source": [
    "class LR:\n",
    "    def __init__(self):\n",
    "        self.costs = []\n",
    "    \n",
    "    def init_weights(self, num_features):\n",
    "        return np.zeros(num_features)\n",
    "                            \n",
    "    \n",
    "    def add_bias(self, X):\n",
    "        return np.insert(X, 0, 1, axis=1)\n",
    "    \n",
    "    def caculate_loss(self, a, y):\n",
    "        m = len(y)\n",
    "        cost = (1 / m) * (np.sum(-y.T.dot(np.log(a)) - (1 - y).T.dot(np.log(1 - a))))\n",
    "        return cost\n",
    "        \n",
    "    \n",
    "    def fit(self, X, y, alpha=0.01, num_iterations=100, lamda=0.1):\n",
    "        self.classes = np.unique(y)\n",
    "        self.params = []\n",
    "        X = self.add_bias(X)\n",
    "        \n",
    "        m = X.shape[0]\n",
    "        \n",
    "        for c in self.classes:\n",
    "            each_costs = []\n",
    "            y_onevsall = np.where(y == c, 1, 0)\n",
    "            w = self.init_weights(X.shape[1])\n",
    "                            \n",
    "            for i in range(num_iterations):\n",
    "                a = sigmoid(X.dot(w))\n",
    "                dw = (1/m) * X.T.dot(a - y_onevsall) + w.sum()*lamda/m\n",
    "#                 dw = (1/m) * X.T.dot(a - y_onevsall)\n",
    "                w -= alpha * dw\n",
    "                each_costs.append(self.caculate_loss(a, y_onevsall))\n",
    "            self.costs.append(each_costs)\n",
    "            self.params.append((c, w))\n",
    "            \n",
    "\n",
    "    def predict(self, X):\n",
    "        X = self.add_bias(X)\n",
    "        y_preds = []\n",
    "        for x in X:\n",
    "            one_vs_rest_preds = []\n",
    "            for c, w in self.params:\n",
    "                one_vs_rest_preds.append((sigmoid(x.dot(w)), c))\n",
    "            y_preds.append(max(one_vs_rest_preds)[1])\n",
    "        return y_preds\n",
    "    \n",
    "    def get_params(self):\n",
    "        return [w for c,w in self.params]\n",
    "    \n",
    "    def get_costs(self):\n",
    "        return self.costs\n",
    "\n"
   ]
  },
  {
   "cell_type": "code",
   "execution_count": 43,
   "metadata": {},
   "outputs": [
    {
     "name": "stdout",
     "output_type": "stream",
     "text": [
      "0.8305084745762712\n"
     ]
    }
   ],
   "source": [
    "data = pd.read_csv('quality_test.csv', header=None)\n",
    "X = data[[0,1]]\n",
    "y = data[2]     \n",
    "\n",
    "X = normalize(X)\n",
    "X = transform(X, 7)\n",
    "\n",
    "lr = LR()\n",
    "lr.fit(X.to_numpy(), y.to_numpy(), alpha=0.01, num_iterations=1000, lamda=0.1)\n",
    "\n",
    "print((lr.predict(X.to_numpy()) == y).sum() / len(y))"
   ]
  },
  {
   "cell_type": "code",
   "execution_count": 44,
   "metadata": {},
   "outputs": [
    {
     "data": {
      "text/plain": [
       "(118, 27)"
      ]
     },
     "execution_count": 44,
     "metadata": {},
     "output_type": "execute_result"
    }
   ],
   "source": [
    "X.shape"
   ]
  },
  {
   "cell_type": "code",
   "execution_count": 45,
   "metadata": {},
   "outputs": [],
   "source": [
    "groups = X.groupby(y)\n",
    "columns = X.columns\n",
    "X = X.to_numpy()\n",
    "X = np.insert(X, 0, 1, axis=1)"
   ]
  },
  {
   "cell_type": "code",
   "execution_count": 46,
   "metadata": {},
   "outputs": [
    {
     "data": {
      "text/plain": [
       "Text(0, 0.5, 'feature 2')"
      ]
     },
     "execution_count": 46,
     "metadata": {},
     "output_type": "execute_result"
    },
    {
     "data": {
      "image/png": "[encoded data removed]",
      "text/plain": [
       "<Figure size 432x288 with 1 Axes>"
      ]
     },
     "metadata": {
      "needs_background": "light"
     },
     "output_type": "display_data"
    }
   ],
   "source": [
    "fig, ax = plt.subplots()\n",
    "\n",
    "for name, group in groups:\n",
    "    ax.plot(group[0], group[1], marker=\".\", linestyle=\"\", label='Class: ' + str(int(name)))\n",
    "        \n",
    "w = lr.get_params()[0]\n",
    "\n",
    "plot_step = 0.1\n",
    "x_min, x_max = X[:, 1].min() - 1, X[:, 1].max() + 1\n",
    "y_min, y_max = X[:, 2].min() - 1, X[:, 2].max() + 1\n",
    "xx, yy = np.meshgrid(np.arange(x_min, x_max, plot_step), np.arange(y_min, y_max, plot_step))\n",
    "\n",
    "x = transform(pd.DataFrame(np.c_[xx.ravel(), yy.ravel()]), 7).to_numpy()\n",
    "x = np.insert(x, 0, 1, axis=1)\n",
    "Z = x.dot(w)\n",
    "Z = Z.reshape(xx.shape)\n",
    "ax.contour(xx, yy, Z, levels=[0])\n",
    "ax.legend()\n",
    "ax.set_title('desicion boundries plot')\n",
    "ax.set_xlabel('feature 1')\n",
    "ax.set_ylabel('feature 2')"
   ]
  }
 ],
 "metadata": {
  "kernelspec": {
   "display_name": "Python 3",
   "language": "python",
   "name": "python3"
  },
  "language_info": {
   "codemirror_mode": {
    "name": "ipython",
    "version": 3
   },
   "file_extension": ".py",
   "mimetype": "text/x-python",
   "name": "python",
   "nbconvert_exporter": "python",
   "pygments_lexer": "ipython3",
   "version": "3.7.6"
  }
 },
 "nbformat": 4,
 "nbformat_minor": 4
}
